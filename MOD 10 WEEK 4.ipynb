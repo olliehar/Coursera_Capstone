{
 "cells": [
  {
   "cell_type": "markdown",
   "id": "b564e386-415d-4dc5-8202-3fb542706ee2",
   "metadata": {},
   "source": [
    "# FINAL REPORT\n",
    "# Best London Locations to 'Set-up Shop' For your Business\n",
    "## Coursera Module - 10\n",
    "### "
   ]
  },
  {
   "cell_type": "markdown",
   "id": "56d8e88f-8c73-4a16-a1ab-6318b439c96f",
   "metadata": {},
   "source": [
    "## Introduction\n",
    "\n",
    "Imagine you were a new business and looking for a new location to set-up shop. It is important to find an area in which would benefit from you being there, a location which may not already have your business or an area in which your business would thrive due to it being better than similar businesses in the area.\n",
    "My program requires an input — your business and its variables which will then be inputted into the London location database to figure out suitable locations to ‘set-up shop’. \n",
    "To summarise, this project is targeted at new businesses with the problem of finding a suitable location in the London area.  "
   ]
  },
  {
   "cell_type": "markdown",
   "id": "6383bb4b-b09f-4f32-8fc5-1cf5c6b713e9",
   "metadata": {},
   "source": [
    "## The Data\n",
    "\n",
    "In this project, I used a wikipedia webpage of the ‘List of London Boroughs’. After using several python libraries including beautiful soup, I scraped the webpage for a table including information about each borough. From this data I was specifically interested in the Borough, Area, Population and Coordinates columns. I stored them in a dictionary, each as an array.\n",
    "With the coordinates, I used foursquare to find out what was in the area and to find out how frequent different business occurred in different areas. \n",
    "With the dictionary containing the customer’s business variables, I created a function which runs through the foursquare data tables and finds the areas which would most benefit from what the client’s business has to offer. "
   ]
  },
  {
   "cell_type": "code",
   "execution_count": null,
   "id": "31e52811-25cc-40d3-bf36-c7ac22638880",
   "metadata": {},
   "outputs": [],
   "source": []
  }
 ],
 "metadata": {
  "kernelspec": {
   "display_name": "Python",
   "language": "python",
   "name": "conda-env-python-py"
  },
  "language_info": {
   "codemirror_mode": {
    "name": "ipython",
    "version": 3
   },
   "file_extension": ".py",
   "mimetype": "text/x-python",
   "name": "python",
   "nbconvert_exporter": "python",
   "pygments_lexer": "ipython3",
   "version": "3.6.13"
  }
 },
 "nbformat": 4,
 "nbformat_minor": 5
}
